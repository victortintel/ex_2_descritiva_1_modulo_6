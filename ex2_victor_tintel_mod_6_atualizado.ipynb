{
 "cells": [
  {
   "cell_type": "markdown",
   "metadata": {},
   "source": [
    "# Módulo 06 Tarefa 2"
   ]
  },
  {
   "cell_type": "code",
   "execution_count": 2,
   "metadata": {},
   "outputs": [
    {
     "data": {
      "text/html": [
       "<div>\n",
       "<style scoped>\n",
       "    .dataframe tbody tr th:only-of-type {\n",
       "        vertical-align: middle;\n",
       "    }\n",
       "\n",
       "    .dataframe tbody tr th {\n",
       "        vertical-align: top;\n",
       "    }\n",
       "\n",
       "    .dataframe thead th {\n",
       "        text-align: right;\n",
       "    }\n",
       "</style>\n",
       "<table border=\"1\" class=\"dataframe\">\n",
       "  <thead>\n",
       "    <tr style=\"text-align: right;\">\n",
       "      <th></th>\n",
       "      <th>ORIGEM</th>\n",
       "      <th>CODESTAB</th>\n",
       "      <th>CODMUNNASC</th>\n",
       "      <th>LOCNASC</th>\n",
       "      <th>IDADEMAE</th>\n",
       "      <th>ESTCIVMAE</th>\n",
       "      <th>CODOCUPMAE</th>\n",
       "      <th>QTDFILVIVO</th>\n",
       "      <th>QTDFILMORT</th>\n",
       "      <th>CODMUNRES</th>\n",
       "      <th>...</th>\n",
       "      <th>STDNNOVA</th>\n",
       "      <th>CODPAISRES</th>\n",
       "      <th>TPROBSON</th>\n",
       "      <th>PARIDADE</th>\n",
       "      <th>KOTELCHUCK</th>\n",
       "      <th>CONTADOR</th>\n",
       "      <th>munResLat</th>\n",
       "      <th>munResLon</th>\n",
       "      <th>munResAlt</th>\n",
       "      <th>munResArea</th>\n",
       "    </tr>\n",
       "  </thead>\n",
       "  <tbody>\n",
       "    <tr>\n",
       "      <th>count</th>\n",
       "      <td>27028.0</td>\n",
       "      <td>2.691300e+04</td>\n",
       "      <td>27028.000000</td>\n",
       "      <td>27028.000000</td>\n",
       "      <td>27028.000000</td>\n",
       "      <td>26711.000000</td>\n",
       "      <td>24121.000000</td>\n",
       "      <td>25455.000000</td>\n",
       "      <td>24930.000000</td>\n",
       "      <td>27028.000000</td>\n",
       "      <td>...</td>\n",
       "      <td>27028.000000</td>\n",
       "      <td>27028.0</td>\n",
       "      <td>27028.000000</td>\n",
       "      <td>27028.000000</td>\n",
       "      <td>27028.000000</td>\n",
       "      <td>2.702800e+04</td>\n",
       "      <td>27027.000000</td>\n",
       "      <td>27027.000000</td>\n",
       "      <td>27027.000000</td>\n",
       "      <td>27027.000000</td>\n",
       "    </tr>\n",
       "    <tr>\n",
       "      <th>mean</th>\n",
       "      <td>1.0</td>\n",
       "      <td>3.267629e+06</td>\n",
       "      <td>111037.796211</td>\n",
       "      <td>1.011396</td>\n",
       "      <td>26.093718</td>\n",
       "      <td>2.545318</td>\n",
       "      <td>795604.031591</td>\n",
       "      <td>1.053899</td>\n",
       "      <td>0.266506</td>\n",
       "      <td>110029.055720</td>\n",
       "      <td>...</td>\n",
       "      <td>0.999778</td>\n",
       "      <td>1.0</td>\n",
       "      <td>4.328437</td>\n",
       "      <td>0.648772</td>\n",
       "      <td>4.974952</td>\n",
       "      <td>7.367650e+05</td>\n",
       "      <td>-10.377988</td>\n",
       "      <td>-62.754987</td>\n",
       "      <td>179.111999</td>\n",
       "      <td>14702.799767</td>\n",
       "    </tr>\n",
       "    <tr>\n",
       "      <th>std</th>\n",
       "      <td>0.0</td>\n",
       "      <td>1.122677e+06</td>\n",
       "      <td>18102.751466</td>\n",
       "      <td>0.161679</td>\n",
       "      <td>6.387094</td>\n",
       "      <td>1.671248</td>\n",
       "      <td>283884.959287</td>\n",
       "      <td>1.170874</td>\n",
       "      <td>0.613909</td>\n",
       "      <td>36.036466</td>\n",
       "      <td>...</td>\n",
       "      <td>0.014898</td>\n",
       "      <td>0.0</td>\n",
       "      <td>2.930690</td>\n",
       "      <td>0.477363</td>\n",
       "      <td>2.067085</td>\n",
       "      <td>7.430325e+05</td>\n",
       "      <td>1.372942</td>\n",
       "      <td>1.269490</td>\n",
       "      <td>123.138365</td>\n",
       "      <td>13706.177751</td>\n",
       "    </tr>\n",
       "    <tr>\n",
       "      <th>min</th>\n",
       "      <td>1.0</td>\n",
       "      <td>1.531800e+04</td>\n",
       "      <td>110001.000000</td>\n",
       "      <td>1.000000</td>\n",
       "      <td>11.000000</td>\n",
       "      <td>1.000000</td>\n",
       "      <td>10205.000000</td>\n",
       "      <td>0.000000</td>\n",
       "      <td>0.000000</td>\n",
       "      <td>110000.000000</td>\n",
       "      <td>...</td>\n",
       "      <td>0.000000</td>\n",
       "      <td>1.0</td>\n",
       "      <td>1.000000</td>\n",
       "      <td>0.000000</td>\n",
       "      <td>1.000000</td>\n",
       "      <td>1.000000e+00</td>\n",
       "      <td>-13.499760</td>\n",
       "      <td>-65.329150</td>\n",
       "      <td>85.000000</td>\n",
       "      <td>459.978000</td>\n",
       "    </tr>\n",
       "    <tr>\n",
       "      <th>25%</th>\n",
       "      <td>1.0</td>\n",
       "      <td>2.496534e+06</td>\n",
       "      <td>110011.000000</td>\n",
       "      <td>1.000000</td>\n",
       "      <td>21.000000</td>\n",
       "      <td>1.000000</td>\n",
       "      <td>521125.000000</td>\n",
       "      <td>0.000000</td>\n",
       "      <td>0.000000</td>\n",
       "      <td>110012.000000</td>\n",
       "      <td>...</td>\n",
       "      <td>1.000000</td>\n",
       "      <td>1.0</td>\n",
       "      <td>2.000000</td>\n",
       "      <td>0.000000</td>\n",
       "      <td>4.000000</td>\n",
       "      <td>6.802750e+03</td>\n",
       "      <td>-11.433870</td>\n",
       "      <td>-63.831450</td>\n",
       "      <td>87.000000</td>\n",
       "      <td>3792.998000</td>\n",
       "    </tr>\n",
       "    <tr>\n",
       "      <th>50%</th>\n",
       "      <td>1.0</td>\n",
       "      <td>2.798484e+06</td>\n",
       "      <td>110020.000000</td>\n",
       "      <td>1.000000</td>\n",
       "      <td>26.000000</td>\n",
       "      <td>2.000000</td>\n",
       "      <td>999992.000000</td>\n",
       "      <td>1.000000</td>\n",
       "      <td>0.000000</td>\n",
       "      <td>110020.000000</td>\n",
       "      <td>...</td>\n",
       "      <td>1.000000</td>\n",
       "      <td>1.0</td>\n",
       "      <td>4.000000</td>\n",
       "      <td>1.000000</td>\n",
       "      <td>5.000000</td>\n",
       "      <td>1.364550e+04</td>\n",
       "      <td>-10.435950</td>\n",
       "      <td>-63.033270</td>\n",
       "      <td>153.000000</td>\n",
       "      <td>6896.648000</td>\n",
       "    </tr>\n",
       "    <tr>\n",
       "      <th>75%</th>\n",
       "      <td>1.0</td>\n",
       "      <td>3.970442e+06</td>\n",
       "      <td>110020.000000</td>\n",
       "      <td>1.000000</td>\n",
       "      <td>31.000000</td>\n",
       "      <td>5.000000</td>\n",
       "      <td>999992.000000</td>\n",
       "      <td>2.000000</td>\n",
       "      <td>0.000000</td>\n",
       "      <td>110028.000000</td>\n",
       "      <td>...</td>\n",
       "      <td>1.000000</td>\n",
       "      <td>1.0</td>\n",
       "      <td>5.000000</td>\n",
       "      <td>1.000000</td>\n",
       "      <td>5.000000</td>\n",
       "      <td>1.486846e+06</td>\n",
       "      <td>-8.768890</td>\n",
       "      <td>-61.945090</td>\n",
       "      <td>191.000000</td>\n",
       "      <td>34096.394000</td>\n",
       "    </tr>\n",
       "    <tr>\n",
       "      <th>max</th>\n",
       "      <td>1.0</td>\n",
       "      <td>9.659366e+06</td>\n",
       "      <td>520870.000000</td>\n",
       "      <td>4.000000</td>\n",
       "      <td>53.000000</td>\n",
       "      <td>9.000000</td>\n",
       "      <td>999994.000000</td>\n",
       "      <td>30.000000</td>\n",
       "      <td>28.000000</td>\n",
       "      <td>110180.000000</td>\n",
       "      <td>...</td>\n",
       "      <td>1.000000</td>\n",
       "      <td>1.0</td>\n",
       "      <td>11.000000</td>\n",
       "      <td>1.000000</td>\n",
       "      <td>9.000000</td>\n",
       "      <td>2.780269e+06</td>\n",
       "      <td>-8.768890</td>\n",
       "      <td>-60.138580</td>\n",
       "      <td>595.000000</td>\n",
       "      <td>34096.394000</td>\n",
       "    </tr>\n",
       "  </tbody>\n",
       "</table>\n",
       "<p>8 rows × 54 columns</p>\n",
       "</div>"
      ],
      "text/plain": [
       "        ORIGEM      CODESTAB     CODMUNNASC       LOCNASC      IDADEMAE  \\\n",
       "count  27028.0  2.691300e+04   27028.000000  27028.000000  27028.000000   \n",
       "mean       1.0  3.267629e+06  111037.796211      1.011396     26.093718   \n",
       "std        0.0  1.122677e+06   18102.751466      0.161679      6.387094   \n",
       "min        1.0  1.531800e+04  110001.000000      1.000000     11.000000   \n",
       "25%        1.0  2.496534e+06  110011.000000      1.000000     21.000000   \n",
       "50%        1.0  2.798484e+06  110020.000000      1.000000     26.000000   \n",
       "75%        1.0  3.970442e+06  110020.000000      1.000000     31.000000   \n",
       "max        1.0  9.659366e+06  520870.000000      4.000000     53.000000   \n",
       "\n",
       "          ESTCIVMAE     CODOCUPMAE    QTDFILVIVO    QTDFILMORT      CODMUNRES  \\\n",
       "count  26711.000000   24121.000000  25455.000000  24930.000000   27028.000000   \n",
       "mean       2.545318  795604.031591      1.053899      0.266506  110029.055720   \n",
       "std        1.671248  283884.959287      1.170874      0.613909      36.036466   \n",
       "min        1.000000   10205.000000      0.000000      0.000000  110000.000000   \n",
       "25%        1.000000  521125.000000      0.000000      0.000000  110012.000000   \n",
       "50%        2.000000  999992.000000      1.000000      0.000000  110020.000000   \n",
       "75%        5.000000  999992.000000      2.000000      0.000000  110028.000000   \n",
       "max        9.000000  999994.000000     30.000000     28.000000  110180.000000   \n",
       "\n",
       "       ...      STDNNOVA  CODPAISRES      TPROBSON      PARIDADE  \\\n",
       "count  ...  27028.000000     27028.0  27028.000000  27028.000000   \n",
       "mean   ...      0.999778         1.0      4.328437      0.648772   \n",
       "std    ...      0.014898         0.0      2.930690      0.477363   \n",
       "min    ...      0.000000         1.0      1.000000      0.000000   \n",
       "25%    ...      1.000000         1.0      2.000000      0.000000   \n",
       "50%    ...      1.000000         1.0      4.000000      1.000000   \n",
       "75%    ...      1.000000         1.0      5.000000      1.000000   \n",
       "max    ...      1.000000         1.0     11.000000      1.000000   \n",
       "\n",
       "         KOTELCHUCK      CONTADOR     munResLat     munResLon     munResAlt  \\\n",
       "count  27028.000000  2.702800e+04  27027.000000  27027.000000  27027.000000   \n",
       "mean       4.974952  7.367650e+05    -10.377988    -62.754987    179.111999   \n",
       "std        2.067085  7.430325e+05      1.372942      1.269490    123.138365   \n",
       "min        1.000000  1.000000e+00    -13.499760    -65.329150     85.000000   \n",
       "25%        4.000000  6.802750e+03    -11.433870    -63.831450     87.000000   \n",
       "50%        5.000000  1.364550e+04    -10.435950    -63.033270    153.000000   \n",
       "75%        5.000000  1.486846e+06     -8.768890    -61.945090    191.000000   \n",
       "max        9.000000  2.780269e+06     -8.768890    -60.138580    595.000000   \n",
       "\n",
       "         munResArea  \n",
       "count  27027.000000  \n",
       "mean   14702.799767  \n",
       "std    13706.177751  \n",
       "min      459.978000  \n",
       "25%     3792.998000  \n",
       "50%     6896.648000  \n",
       "75%    34096.394000  \n",
       "max    34096.394000  \n",
       "\n",
       "[8 rows x 54 columns]"
      ]
     },
     "execution_count": 2,
     "metadata": {},
     "output_type": "execute_result"
    }
   ],
   "source": [
    "import pandas as pd\n",
    "import matplotlib.pyplot as plt\n",
    "import seaborn as sns\n",
    "%matplotlib inline\n",
    "\n",
    "sinasc = pd.read_csv(\"sinasc_RO_2019.csv\")\n",
    "sinasc.describe()\n"
   ]
  },
  {
   "cell_type": "markdown",
   "metadata": {},
   "source": [
    "####  1) Na base do SINASC do DataSUS, faça um boxplot da idade da mãe."
   ]
  },
  {
   "cell_type": "code",
   "execution_count": 3,
   "metadata": {},
   "outputs": [
    {
     "data": {
      "text/plain": [
       "<Axes: >"
      ]
     },
     "execution_count": 3,
     "metadata": {},
     "output_type": "execute_result"
    },
    {
     "data": {
      "image/png": "[encoded data removed]",
      "text/plain": [
       "<Figure size 640x480 with 1 Axes>"
      ]
     },
     "metadata": {},
     "output_type": "display_data"
    }
   ],
   "source": [
    "sinasc[[\"IDADEMAE\"]].boxplot()"
   ]
  },
  {
   "cell_type": "markdown",
   "metadata": {},
   "source": [
    "####  2) Faça um boxplot do peso do bebê"
   ]
  },
  {
   "cell_type": "code",
   "execution_count": 4,
   "metadata": {},
   "outputs": [
    {
     "data": {
      "text/plain": [
       "<Axes: >"
      ]
     },
     "execution_count": 4,
     "metadata": {},
     "output_type": "execute_result"
    },
    {
     "data": {
      "image/png": "[encoded data removed]",
      "text/plain": [
       "<Figure size 640x480 with 1 Axes>"
      ]
     },
     "metadata": {},
     "output_type": "display_data"
    }
   ],
   "source": [
    "sinasc[[\"PESO\"]].boxplot()"
   ]
  },
  {
   "cell_type": "markdown",
   "metadata": {},
   "source": [
    "####  3) Faça um histograma da idade da mãe"
   ]
  },
  {
   "cell_type": "code",
   "execution_count": 5,
   "metadata": {},
   "outputs": [
    {
     "data": {
      "text/plain": [
       "<Axes: ylabel='Frequency'>"
      ]
     },
     "execution_count": 5,
     "metadata": {},
     "output_type": "execute_result"
    },
    {
     "data": {
      "image/png": "[encoded data removed]",
      "text/plain": [
       "<Figure size 640x480 with 1 Axes>"
      ]
     },
     "metadata": {},
     "output_type": "display_data"
    }
   ],
   "source": [
    "sinasc[[\"IDADEMAE\"]].plot.hist(bins=20)"
   ]
  },
  {
   "cell_type": "markdown",
   "metadata": {},
   "source": [
    "#### 4) Faça um histograma do peso do bebê"
   ]
  },
  {
   "cell_type": "code",
   "execution_count": 6,
   "metadata": {},
   "outputs": [
    {
     "data": {
      "text/plain": [
       "<Axes: ylabel='Frequency'>"
      ]
     },
     "execution_count": 6,
     "metadata": {},
     "output_type": "execute_result"
    },
    {
     "data": {
      "image/png": "[encoded data removed]",
      "text/plain": [
       "<Figure size 640x480 with 1 Axes>"
      ]
     },
     "metadata": {},
     "output_type": "display_data"
    }
   ],
   "source": [
    "sinasc[[\"PESO\"]].plot.hist(bins=20)"
   ]
  },
  {
   "cell_type": "code",
   "execution_count": null,
   "metadata": {},
   "outputs": [],
   "source": []
  }
 ],
 "metadata": {
  "kernelspec": {
   "display_name": "Python 3 (ipykernel)",
   "language": "python",
   "name": "python3"
  },
  "language_info": {
   "codemirror_mode": {
    "name": "ipython",
    "version": 3
   },
   "file_extension": ".py",
   "mimetype": "text/x-python",
   "name": "python",
   "nbconvert_exporter": "python",
   "pygments_lexer": "ipython3",
   "version": "3.11.5"
  }
 },
 "nbformat": 4,
 "nbformat_minor": 4
}
